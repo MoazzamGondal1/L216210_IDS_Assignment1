import numpy as np
def check_duplicate(xlist):
    if len(xlist) == len(set(xlist)) :
     return True
    else :
     return False 

def check_input(x):
 count = len(x[0])
 c=0
 np_x=np.array(x)
 rows=True
 cols=True

 while c!=count :
     r_list = x[c]
     if (check_duplicate(r_list)==True):
          #count = count-1
          c=c+1
     else:
          rows=False
          break     
     
 if rows==False:
     return False
 else:
     c2=0
     while c2!=count :
          c_list = np_x[:,c2]
          if (check_duplicate(c_list)==True):
              c2=c2+1
          else:
              cols=False
              break 
 if cols==False & rows == False:
     return False
 else:
     return True    


test1 = [[1, 2, 3],
        [2, 3, 1],
        [3, 1, 2]]

test2 = [[1, 2, 3, 4],
        [2, 3, 1, 3],
        [3, 1, 2, 3],
        [4, 4, 4, 4]]

test3 = [['a', 'b', 'c'],
        ['b', 'c', 'a'],
        ['c', 'a', 'b']]

print(check_input(test1)) # must return true
print(check_input(test2)) # must return false
print(check_input(test3)) # must return false