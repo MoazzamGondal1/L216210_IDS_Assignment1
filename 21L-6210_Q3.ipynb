import numpy as np
import pandas as pd
import matplotlib.pyplot as mp

file = pd.read_csv("StudentMarkSheet.csv")
nfile = file.dropna(axis=0,how='any')
np_file=np.array(nfile)
subjects=np_file[:,1]
marks=np.array(np_file[:,3])
marks_bio=marks[subjects=='Biology']
marks_math=marks[subjects=='Mathematics']
marks_chem=marks[subjects=='Chemistry']
marks_phy=marks[subjects=='Physics']
marks_pp=marks[subjects=='Philosophy']
marks_socio=marks[subjects=='Sociology']
mean_bio=np.mean(marks_bio)
mean_math=np.mean(marks_math)
mean_chem=np.mean(marks_chem)
mean_phy=np.mean(marks_phy)
mean_pp=np.mean(marks_pp)
mean_socio=np.mean(marks_socio)

x_labels=["Biology","Chemistry","Physics","Philosphy","Sociology","Mathematics"]
y_labels=[mean_bio,mean_chem,mean_phy,mean_pp,mean_socio,mean_math]
mp.bar(x_labels,y_labels)
mp.show()