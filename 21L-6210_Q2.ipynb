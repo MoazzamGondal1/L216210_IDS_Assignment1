import numpy as np
import pandas as pd

file = pd.read_csv("StudentMarkSheet.csv")
file.info()
nfile = file.dropna(axis=0,how='any')
np_file=np.array(nfile)
np_names=np.array(np_file[:,0])
np_marks=np.array(np_file[:,3])
np_exam=np.array(np_file[:,1])

marks=np_marks[np_names=='James Walker']
exams=np_exam[np_names=='James Walker']
name=np_names[np_names=='James Walker']

print("Number of Rows Before Removing Null :",len(file))
print("Number of Rows Containing Null Data : ",(len(file))-(len(file.dropna(how='any'))))
print("Number of Rows After Removing Null :",len(nfile),"\n")

count=(len(name))-1
while count>=0 :
    print(name[count],exams[count],marks[count])
    count=count-1