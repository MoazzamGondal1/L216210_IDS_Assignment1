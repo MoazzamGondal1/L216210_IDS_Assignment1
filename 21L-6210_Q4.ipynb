import numpy as np
import pandas as pd
import matplotlib.pyplot as mp
from sklearn import linear_model

file = pd.read_csv("CatData.csv")
nfile = file.dropna(axis=0,how='any')

#dependent variable: Tail length
#independent variable: Mass

num=int(len(nfile)*0.8)
train = nfile[:num]
test = nfile[num:]

regr =linear_model.LinearRegression()

train_x=np.array(train[["Tail Length (cm)"]])
train_y=np.array(train[["Mass (kg)"]])

regr.fit(train_x,train_y)

slope=regr.coef_
intercept=regr.intercept_

print("slope : ",slope)
print("intercept : ",intercept)
x=train[["Tail Length (cm)"]]
y=(slope*(train[["Tail Length (cm)"]])+intercept)


mp.scatter(train["Tail Length (cm)"],train["Mass (kg)"],color='black')
mp.plot(x,y,color="red")
mp.xlabel("Tail_Length")
mp.ylabel("Mass")
mp.show()